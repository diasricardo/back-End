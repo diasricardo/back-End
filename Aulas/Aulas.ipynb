{
 "cells": [
  {
   "cell_type": "markdown",
   "metadata": {},
   "source": [
    "Aula 01 - Conhecendo o Python"
   ]
  },
  {
   "cell_type": "code",
   "execution_count": null,
   "metadata": {},
   "outputs": [],
   "source": [
    "#Conhecendo as variáveis\n",
    "'''\n",
    "    Sou um comentario de varias linhas\n",
    "'''\n",
    "\"\"\"\n",
    "    Comentario de varias linhas\n",
    "\"\"\"\n",
    "texto = \"2\" #variavel do tipo string\n",
    "texto1 = str(2) #variavel do tipo string\n",
    "numero = 3  #variravel do  tipo numérico\n",
    "numero1 = int(3) #variavel do tipo inteiro\n",
    "numero2 = float(3.2) #variavel do tipo real\n",
    "\n",
    "print(texto)\n",
    "print(numero2)\n",
    "\n",
    "#entrada de dados\n",
    "nome = input('Digite o nome: ')\n",
    "print('Olá', nome , '!')\n",
    "num1 = int(input('{} Digite sua idade: '.format(nome)))\n",
    "print(f'Ola {nome}, sua idade {num1}')\n",
    "\n",
    "altura = float(input(f'{nome} digite sua altura: '))\n",
    "print(f'Ola {nome} sua idade {num1} e sua altura{altura:.2f}')"
   ]
  },
  {
   "cell_type": "markdown",
   "metadata": {},
   "source": [
    "Aula 02 - Módulos/Bibliotecas"
   ]
  },
  {
   "cell_type": "code",
   "execution_count": 5,
   "metadata": {},
   "outputs": [
    {
     "name": "stdout",
     "output_type": "stream",
     "text": [
      "A raiz de 8 é: 2.83\n",
      "A raiz de 8 é: 3\n",
      "A raiz de 8 é: 2\n"
     ]
    }
   ],
   "source": [
    "##import math\n",
    "from math import sqrt, floor, ceil\n",
    "\n",
    "numero = int(input('Digite um numero: '))\n",
    "#print(f'raiz é {numero ** (1/2)}')\n",
    "raiz = sqrt(numero)\n",
    "print(f'A raiz de {numero} é: {raiz:.2f}')\n",
    "#arredonda pra cima\n",
    "print(f'A raiz de {numero} é: {ceil(raiz)}')\n",
    "#arredonda pra baixo\n",
    "print(f'A raiz de {numero} é: {floor(raiz)}')"
   ]
  },
  {
   "cell_type": "markdown",
   "metadata": {},
   "source": [
    "Utilizando numeros aleatórios"
   ]
  },
  {
   "cell_type": "code",
   "execution_count": 48,
   "metadata": {},
   "outputs": [
    {
     "name": "stdout",
     "output_type": "stream",
     "text": [
      "0.09997432995223254\n",
      "377\n",
      "5\n",
      "Ola mundo 🌐\n"
     ]
    }
   ],
   "source": [
    "import random, emoji\n",
    "# gera um numero aleatorio de tipo float de 0 a 1\n",
    "num = random.random()\n",
    "print(num)\n",
    "\n",
    "#gera um numero aleatorio do tipo int limitando de - a 100\n",
    "num2 = random.randint(0, 1000)\n",
    "print(num2)\n",
    "\n",
    "#selecionando um numero aleatorio de uma lista/vetor\n",
    "baralho = [\"A\", \"2\", \"3\", \"4\", \"5\", \"6\", \"7\", \"8\", \"9\", \"10\", \"J\", \"Q\", \"K\"]\n",
    "##random.choice(baralho)\n",
    "print(random.choice(baralho))\n",
    "\n",
    "#adicionando emojis\n",
    "print(emoji.emojize(\"Ola mundo :globe_with_meridians:\"))"
   ]
  },
  {
   "cell_type": "code",
   "execution_count": null,
   "metadata": {},
   "outputs": [],
   "source": [
    "pip install emoji"
   ]
  },
  {
   "cell_type": "markdown",
   "metadata": {},
   "source": [
    "Condições IF e else"
   ]
  },
  {
   "cell_type": "code",
   "execution_count": 2,
   "metadata": {},
   "outputs": [
    {
     "name": "stdout",
     "output_type": "stream",
     "text": [
      "Carro novo\n",
      "--Fim--\n"
     ]
    }
   ],
   "source": [
    "#Quantos anos tem seu carro\n",
    "\n",
    "tempo = int(input('Quantos anos tem seu carro ? '))\n",
    "\n",
    "#if(tempo <= 3)\n",
    "'''{\n",
    "        Console.log('Carro novo')\n",
    "    }'''\n",
    "if tempo <= 3:\n",
    "    print('Carro novo')\n",
    "else:\n",
    "    print('Carro Velho')\n",
    "print('--Fim--')"
   ]
  },
  {
   "cell_type": "code",
   "execution_count": 7,
   "metadata": {},
   "outputs": [
    {
     "name": "stdout",
     "output_type": "stream",
     "text": [
      "9\n",
      "O valor do ipva a ser pago R$2000.00\n",
      "Podendo ser pago em 5x 400.00 ou a vista 1940.00\n"
     ]
    }
   ],
   "source": [
    "# validando se seu automóvel paga ou não ipva\n",
    "from datetime import date\n",
    "\n",
    "ano = int(input('Digite o ano do seu carro: '))\n",
    "#importando a data atual\n",
    "ano_atual = date.today().year\n",
    "#calculando a idade do carro\n",
    "idade_carro = ano_atual - ano\n",
    "print(idade_carro)\n",
    "if idade_carro >= 20:\n",
    "    print('Você não paga mais ipva')\n",
    "else:\n",
    "    valor_carro = float(input('Digite o valor do seu carro: '))\n",
    "    ipva = valor_carro * 0.04\n",
    "    print(f'O valor do ipva a ser pago R${ipva:.2f}')\n",
    "    print(f'Podendo ser pago em 5x {ipva/5:.2f} ou a vista {ipva*0.97:.2f}')\n"
   ]
  },
  {
   "cell_type": "code",
   "execution_count": null,
   "metadata": {},
   "outputs": [],
   "source": [
    "nota1 = float(input('Digite a primeira nota: '))\n",
    "nota2 = float(input('Digite a segunda nota: '))\n",
    "\n",
    "#calcular media\n",
    "media = (nota1 + nota2) / 2\n",
    "\n",
    "if media >= 50:\n",
    "    print('Você está aprovado no Senai')\n",
    "else:\n",
    "    print('Você foi reprovado no Senai')"
   ]
  },
  {
   "cell_type": "markdown",
   "metadata": {},
   "source": [
    "Condições aninhadas"
   ]
  },
  {
   "cell_type": "code",
   "execution_count": null,
   "metadata": {},
   "outputs": [],
   "source": [
    "nome = str(input('Qual seu nome ? '))\n",
    "\n",
    "if nome == \"Ricardo\":\n",
    "    print(f'Nome bonito, {nome}')\n",
    "#else if\n",
    "elif nome == 'Joao' or nome =='Maria' or nome ==\"Joaquim\":\n",
    "    print(f'{nome} Seu nome é muito popular no Brasil')\n",
    "else:\n",
    "    print(f'Tenha um bom dia {nome}')"
   ]
  },
  {
   "cell_type": "markdown",
   "metadata": {},
   "source": [
    "Estruturas de repetição."
   ]
  },
  {
   "cell_type": "code",
   "execution_count": null,
   "metadata": {},
   "outputs": [],
   "source": [
    "for contador in range(0, 11):\n",
    "    print(contador)   \n",
    "print('FIM')"
   ]
  },
  {
   "cell_type": "code",
   "execution_count": null,
   "metadata": {},
   "outputs": [],
   "source": [
    "for contador in range(11, 0, -1):\n",
    "    print(contador)   \n",
    "print('FIM')"
   ]
  },
  {
   "cell_type": "code",
   "execution_count": null,
   "metadata": {},
   "outputs": [],
   "source": [
    "i = int(input('Inicio: '))\n",
    "f = int(input('Fim: '))\n",
    "p = int(input('Passo: '))\n",
    "\n",
    "for contador in range(i, f + 1, p):\n",
    "    print(contador)"
   ]
  },
  {
   "cell_type": "code",
   "execution_count": null,
   "metadata": {},
   "outputs": [],
   "source": [
    "alunos = ['Ricardo', 'Douglas', 'Gabriel', 'Rayssa', 'Bruna']\n",
    "for nome in alunos:\n",
    "    print(f'{nome}')"
   ]
  },
  {
   "cell_type": "code",
   "execution_count": null,
   "metadata": {},
   "outputs": [],
   "source": [
    "alunos = ['Livia', 'Dobri', 'Quirino', 'Spegiorin']\n",
    "for indice, nome in enumerate(alunos):\n",
    "    print(f'Indice: {indice} Nome: {nome}')"
   ]
  },
  {
   "cell_type": "markdown",
   "metadata": {},
   "source": [
    "Laços de repetição While"
   ]
  },
  {
   "cell_type": "code",
   "execution_count": null,
   "metadata": {},
   "outputs": [],
   "source": [
    "c = 1\n",
    "while c < 10:\n",
    "    print(c)\n",
    "    #c = c + 1\n",
    "    c += 1\n",
    "print('Fim')"
   ]
  },
  {
   "cell_type": "code",
   "execution_count": null,
   "metadata": {},
   "outputs": [],
   "source": [
    "#strip remove os campos em branco, upper coloca em maiusculo, \n",
    "#[0] pega primeira letra\n",
    "sexo = input('Informe seu sexo: [M/F]').strip().upper()[0]\n",
    "#enquanto o valor nao estiver dentro da sequencia\n",
    "while sexo not in 'MmFf':\n",
    "    sexo = str(input('Dados inválidos. Por favor, indique o sexo')).strip().upper()[0]\n",
    "print(f'Sexo {sexo} registrado com sucesso.')"
   ]
  },
  {
   "cell_type": "markdown",
   "metadata": {},
   "source": [
    "Simulador do jogo de dados"
   ]
  },
  {
   "cell_type": "code",
   "execution_count": null,
   "metadata": {},
   "outputs": [],
   "source": [
    "from random import randint\n",
    "\n",
    "while True:\n",
    "    lados = int(input('Quantos lados tem o dado? '))\n",
    "    lancamentos = int(input('Quantos lançamentos deseja realizar? '))\n",
    "\n",
    "    print(f'Simulando {lancamentos} de um dado de {lados} lados: ')\n",
    "\n",
    "    for jogar in range(lancamentos):\n",
    "        resultado = randint(1, lados)\n",
    "        print(f'Lançamento: {resultado}')\n",
    "    \n",
    "    continuar = input('Deseja realizar mais lançamentos? (s/n):').lower()\n",
    "    if continuar != 's':\n",
    "        break\n",
    "print('Programa encerrado.')\n"
   ]
  },
  {
   "cell_type": "markdown",
   "metadata": {},
   "source": [
    "Trabalhando com Listas/Vetores"
   ]
  },
  {
   "cell_type": "code",
   "execution_count": null,
   "metadata": {},
   "outputs": [],
   "source": [
    "#criando Listas\n",
    "listaVazia = []\n",
    "listaNumeros = [ 1, 2, 3 ,4 ,5]\n",
    "listaFrutas = ['Maça', 'Banana', 'Laranja', 'uva']\n",
    "listaFrutas2 = ['Maça, Banana, Laranja, uva']\n",
    "print(listaFrutas2)\n",
    "print(listaFrutas[3])\n",
    "\n",
    "\n",
    "#adicionando um novo elemento\n",
    "listaFrutas.append(input('Digite uma fruta:'))\n",
    "\n",
    "#remoção do elemento\n",
    "print(listaFrutas)\n",
    "listaFrutas.remove(input('Digite a fruta a ser removida: '))\n",
    "print(listaFrutas)\n",
    "\n",
    "del listaFrutas[0]#remove o elemento de acordo com a posição\n",
    "\n",
    "'''\n",
    "    append(): Adiciona um elemento ao final da lista.\n",
    "    extend(): Adiciona os elementos de outra lista ao final da lista atual.\n",
    "    insert(): Insere um elemento em uma posição específica da lista.\n",
    "    remove(): Remove a primeira ocorrência de um elemento da lista.\n",
    "    pop(): Remove e retorna o último elemento da lista, ou um elemento em uma posição específica.\n",
    "    index(): Retorna o índice da primeira ocorrência de um elemento na lista.\n",
    "    count(): Retorna o número de ocorrências de um elemento na lista.\n",
    "    sort(): Ordena os elementos da lista.\n",
    "    reverse(): Inverte a ordem dos elementos na lista.\n",
    "'''\n",
    "#adicionando lista dentro de outra lista\n",
    "outrasFrutas = ['Melao', 'Goiaba']\n",
    "\n",
    "listaFrutas += outrasFrutas\n",
    "print(listaFrutas)\n",
    "\n",
    "#percorrendo lista\n",
    "\n",
    "for fruta in listaFrutas:\n",
    "    print(fruta)\n",
    "#percorrendo atraves do indice\n",
    "for i, fruta in enumerate(listaFrutas):\n",
    "    print(f'Posição: {i}')\n",
    "    print(f'Elemento: {fruta}')\n",
    "\n",
    "for i in range(len(listaFrutas)):\n",
    "    print(listaFrutas[i])\n",
    "\n",
    "    '''\n",
    "    len(): Retorna o número de elementos em uma lista.\n",
    "    max(): Retorna o maior elemento em uma lista.\n",
    "    min(): Retorna o menor elemento em uma lista.\n",
    "    sum(): Retorna a soma de todos os elementos em uma lista.\n",
    "'''"
   ]
  },
  {
   "cell_type": "markdown",
   "metadata": {},
   "source": [
    "Funções"
   ]
  },
  {
   "cell_type": "code",
   "execution_count": null,
   "metadata": {},
   "outputs": [],
   "source": [
    "#function soma()\n",
    "#soma()\n",
    "\n",
    "def linha():\n",
    "    print('#' * 30)\n",
    "\n",
    "linha()\n",
    "print('Curso Dev Senai')\n",
    "linha()\n",
    "print('Profº Douglas e Ricardo')\n"
   ]
  },
  {
   "cell_type": "code",
   "execution_count": null,
   "metadata": {},
   "outputs": [],
   "source": [
    "#passando parametros para a função\n",
    "def titulo(texto):\n",
    "    linha()\n",
    "    print(texto)\n",
    "    linha()\n",
    "\n",
    "def linha():\n",
    "    print('-' * 30)\n",
    "\n",
    "titulo('Curso Senai')\n",
    "titulo('Aprendendo Python')\n",
    "titulo('Profº Douglas e Ricardo')"
   ]
  },
  {
   "cell_type": "code",
   "execution_count": 9,
   "metadata": {},
   "outputs": [
    {
     "name": "stdout",
     "output_type": "stream",
     "text": [
      "50\n"
     ]
    }
   ],
   "source": [
    "v1 = float(input('Digite um numero:'))\n",
    "v2 = float(input('Digite o segundo valor: '))\n",
    "\n",
    "def soma(valor1, valor2):\n",
    "    realizaSoma = valor1 + valor2\n",
    "    print(realizaSoma)\n",
    "\n",
    "soma(v2, v1)"
   ]
  },
  {
   "cell_type": "code",
   "execution_count": null,
   "metadata": {},
   "outputs": [],
   "source": [
    "#retornando valores\n",
    "def parOuImpar (numero):\n",
    "    if numero % 2 == 0:\n",
    "        return True\n",
    "    else:\n",
    "        return False\n",
    "    \n",
    "\n",
    "num = int(input(\"Digite um numero: \"))\n",
    "if parOuImpar(num):\n",
    "    print('E par')\n",
    "else:\n",
    "    print('e Impar')"
   ]
  },
  {
   "cell_type": "code",
   "execution_count": 8,
   "metadata": {},
   "outputs": [
    {
     "name": "stdout",
     "output_type": "stream",
     "text": [
      "Multiplicação total 10\n",
      "Multiplicação total 24\n"
     ]
    }
   ],
   "source": [
    "def multiplica(* valores):\n",
    "    multiplicacao = 1\n",
    "    for num in valores:\n",
    "        multiplicacao *= num\n",
    "    print(f'Multiplicação total {multiplicacao}')\n",
    "\n",
    "multiplica(2,5)\n",
    "multiplica(2, 3, 4)"
   ]
  },
  {
   "cell_type": "code",
   "execution_count": 1,
   "metadata": {},
   "outputs": [
    {
     "name": "stdout",
     "output_type": "stream",
     "text": [
      "O jogador Rayssa fez 10 gols no campeonato.\n"
     ]
    }
   ],
   "source": [
    "#função recebe os parametros e imprime na tela\n",
    "def  ficha(jogador = '<desconhecido>', gol = 0):\n",
    "    print(f'O jogador {jogador} fez {gol} gols no campeonato.')\n",
    "\n",
    "def menuInicial():\n",
    "    nome = input('Digite o nome do jogador: ')\n",
    "    gols = input('Numero de gols: ')\n",
    "\n",
    "    #valida se o valor recebido é numérico.\n",
    "    if gols.isnumeric():\n",
    "        gols = int(gols)\n",
    "    else:\n",
    "        gols = 0\n",
    "    #remove os espaços para validar se algum texto foi passado.\n",
    "    if nome.strip() == '':\n",
    "        ficha(gol = gols)\n",
    "    else:\n",
    "        ficha(nome, gols)\n",
    "\n",
    "#verifica se o script está sendo executado com o programa principal\n",
    "# e chama a função MenuInicial para iniciar o programa\n",
    "        \n",
    "if __name__ == \"__main__\":\n",
    "    menuInicial()"
   ]
  },
  {
   "cell_type": "code",
   "execution_count": 3,
   "metadata": {},
   "outputs": [
    {
     "name": "stdout",
     "output_type": "stream",
     "text": [
      "22\n"
     ]
    }
   ],
   "source": [
    "#importar a funçao somar e realizar a soma, ler os valores\n",
    "#realizar o print\n",
    "\n",
    "from funcao import soma\n",
    "v1 = 12\n",
    "v2 =10\n",
    "print(soma(v1,v2))"
   ]
  },
  {
   "cell_type": "code",
   "execution_count": 1,
   "metadata": {},
   "outputs": [
    {
     "name": "stdout",
     "output_type": "stream",
     "text": [
      "[1, 2, 3]\n"
     ]
    }
   ],
   "source": [
    "n1 = 1\n",
    "n2 = 2\n",
    "n3 = 3\n",
    "\n",
    "variaveis = [n1, n2 ,n3]\n",
    "print(variaveis)"
   ]
  }
 ],
 "metadata": {
  "kernelspec": {
   "display_name": "Python 3",
   "language": "python",
   "name": "python3"
  },
  "language_info": {
   "codemirror_mode": {
    "name": "ipython",
    "version": 3
   },
   "file_extension": ".py",
   "mimetype": "text/x-python",
   "name": "python",
   "nbconvert_exporter": "python",
   "pygments_lexer": "ipython3",
   "version": "3.12.1"
  }
 },
 "nbformat": 4,
 "nbformat_minor": 2
}
