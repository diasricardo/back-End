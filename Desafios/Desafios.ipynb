{
 "cells": [
  {
   "cell_type": "markdown",
   "metadata": {},
   "source": [
    "01 - Crie um programa que leia dois números e mostre a soma entre eles."
   ]
  },
  {
   "cell_type": "code",
   "execution_count": 2,
   "metadata": {},
   "outputs": [
    {
     "name": "stdout",
     "output_type": "stream",
     "text": [
      "A soma dos valores 4 e 5 = 9\n"
     ]
    }
   ],
   "source": [
    "#declarar as variaveis e ler os valores\n",
    "n1 = int(input('Digite um valor: '))\n",
    "n2 = int(input('Digite outro valor: '))\n",
    "soma = n1 + n2\n",
    "#realizar soma\n",
    "print(f'A soma dos valores {n1} e {n2} = {soma}')"
   ]
  },
  {
   "cell_type": "markdown",
   "metadata": {},
   "source": [
    "02 - Crie um programa que leia um número inteiro e mostre na tela o seu sucessor e antecessor."
   ]
  },
  {
   "cell_type": "code",
   "execution_count": 3,
   "metadata": {},
   "outputs": [
    {
     "name": "stdout",
     "output_type": "stream",
     "text": [
      "O antecessor de 3 é 2 e o sucessor é 4\n"
     ]
    }
   ],
   "source": [
    "num1 = int(input('Digite um numero: '))\n",
    "antecessor = num1 - 1\n",
    "sucessor = num1 + 1\n",
    "\n",
    "print(f'O antecessor de {num1} é {antecessor} e o sucessor é {sucessor}')"
   ]
  },
  {
   "cell_type": "markdown",
   "metadata": {},
   "source": [
    "03 - Crie um programa que leia um número e mostre o seu dobro, triplo e raiz quadrada."
   ]
  },
  {
   "cell_type": "code",
   "execution_count": 4,
   "metadata": {},
   "outputs": [
    {
     "name": "stdout",
     "output_type": "stream",
     "text": [
      "O dobro de 4 é 8, o triplo é 12 e a raiz é 2.0\n"
     ]
    }
   ],
   "source": [
    "numero = int(input('Digite um numero: '))\n",
    "print(f'O dobro de {numero} é {numero * 2}, o triplo é {numero * 3} e a raiz é {numero ** (1/2)}')"
   ]
  },
  {
   "cell_type": "markdown",
   "metadata": {},
   "source": [
    "04 - Crie um programa que leia duas notas de um aluno, calcule e mostre sua média."
   ]
  },
  {
   "cell_type": "code",
   "execution_count": 5,
   "metadata": {},
   "outputs": [
    {
     "name": "stdout",
     "output_type": "stream",
     "text": [
      "A media do aluno é: 6.5\n"
     ]
    }
   ],
   "source": [
    "nota1 = float(input('Digite a primeira nota: '))\n",
    "nota2 = float(input('Digite a segunda nota: '))\n",
    "\n",
    "media = (nota1 + nota2) / 2\n",
    "\n",
    "print(f'A media do aluno é: {media}')"
   ]
  },
  {
   "cell_type": "markdown",
   "metadata": {},
   "source": [
    "05 - Crie um programa que leia o valor em metros e o exiba convertido em centímetros e milímetros."
   ]
  },
  {
   "cell_type": "code",
   "execution_count": null,
   "metadata": {},
   "outputs": [],
   "source": [
    "metro = int(input('Digite o numero em metros: '))\n",
    "print(f'O valor digitado em centimetros é {metro * 100} e em milimetros é de: {metro * 1000}')"
   ]
  },
  {
   "cell_type": "markdown",
   "metadata": {},
   "source": [
    "06 - Crie um programa que leia um numero qualquer e mostre na tela a sua tabuada."
   ]
  },
  {
   "cell_type": "code",
   "execution_count": null,
   "metadata": {},
   "outputs": [],
   "source": [
    "num =  int(input('Digite um numero para ver a tabuada: '))\n",
    "print(f'{1} x {num} = {num * 1}')\n",
    "print(f'{2} x {num} = {num * 2}')\n",
    "print(f'{3} x {num} = {num * 3}')\n",
    "print(f'{4} x {num} = {num * 4}')\n",
    "print(f'{5} x {num} = {num * 5}')\n",
    "print(f'{6} x {num} = {num * 6}')\n",
    "print(f'{7} x {num} = {num * 7}')\n",
    "print(f'{8} x {num} = {num * 8}')\n",
    "print(f'{9} x {num} = {num * 9}')\n",
    "print(f'{10} x {num} = {num * 10}')"
   ]
  },
  {
   "cell_type": "markdown",
   "metadata": {},
   "source": [
    "07 - Crie um programa que leia quanto dinheiro a pessoa tem na carteira e mostre quantos dólares ela pode comprar."
   ]
  },
  {
   "cell_type": "code",
   "execution_count": 6,
   "metadata": {},
   "outputs": [
    {
     "name": "stdout",
     "output_type": "stream",
     "text": [
      "Com R$10.00 você pode comprar US$2.00\n"
     ]
    }
   ],
   "source": [
    "carteira = float(input('Digite quantos voce tem na carteira ? R$'))\n",
    "dolar = carteira / 5.00\n",
    "\n",
    "print(f'Com R${carteira:.2f} você pode comprar US${dolar:.2f}')"
   ]
  },
  {
   "cell_type": "markdown",
   "metadata": {},
   "source": [
    "08 - Crie um programa que leia a largura e a altura de uma parede em metros, calcule a sua área e a quantidade de tinta necessária para pintá-lo, sabendo que cada litro de tinta pinta\n",
    "uma área de 2m2."
   ]
  },
  {
   "cell_type": "code",
   "execution_count": null,
   "metadata": {},
   "outputs": [],
   "source": [
    "largura = float(input('Digite a largura em metros: '))\n",
    "altura = float(input('Digite a largura em metros: '))\n",
    "\n",
    "area = (largura * altura) / 2\n",
    "\n",
    "print(f'A quantidade de tinta necessária é {area:.2f}')"
   ]
  },
  {
   "cell_type": "markdown",
   "metadata": {},
   "source": [
    "09 - Faça um algoritmo que leia o preço do produto e mostre seu novo preço com 5% de desconto."
   ]
  },
  {
   "cell_type": "code",
   "execution_count": 8,
   "metadata": {},
   "outputs": [
    {
     "name": "stdout",
     "output_type": "stream",
     "text": [
      "Seu produto com desconto R$95.00\n"
     ]
    }
   ],
   "source": [
    "preco = float(input('Digite o preço do produto: R$'))\n",
    "desconto = preco - (preco * 0.05)\n",
    "print(f'Seu produto com desconto R${desconto:.2f}')"
   ]
  },
  {
   "cell_type": "markdown",
   "metadata": {},
   "source": [
    "10 - Faça um algoritmo que leia o salário do funcionário e mostre seu novo salário com 15% de aumento."
   ]
  },
  {
   "cell_type": "code",
   "execution_count": 10,
   "metadata": {},
   "outputs": [
    {
     "name": "stdout",
     "output_type": "stream",
     "text": [
      "Com 15% de aumento seu salario é de R$4600.000\n"
     ]
    }
   ],
   "source": [
    "salario =  float(input('Digite seu salario: R$'))\n",
    "valorFinal = salario + (salario * 0.15)\n",
    "print(f'Com 15% de aumento seu salario é de R${valorFinal:.2f}')"
   ]
  },
  {
   "cell_type": "code",
   "execution_count": null,
   "metadata": {},
   "outputs": [],
   "source": [
    "salario =  float(input('Digite seu salario: R$'))\n",
    "novoSalario = salario * 0.15\n",
    "soma = salario + novoSalario\n",
    "print(f'Com 15% de aumento seu salario é de R${soma:.2f}')"
   ]
  },
  {
   "cell_type": "markdown",
   "metadata": {},
   "source": [
    "Faça um algoritmo que receba um valor em graus Celsius e converta para farenheit."
   ]
  },
  {
   "cell_type": "code",
   "execution_count": 11,
   "metadata": {},
   "outputs": [
    {
     "name": "stdout",
     "output_type": "stream",
     "text": [
      "O valor de 32.0ºC em ºF89.6\n"
     ]
    }
   ],
   "source": [
    "num1 = float(input('Digite o valor em Graus Celsius: ºC'))\n",
    "conversao = num1 * 1.8 + 32\n",
    "print(f'O valor de {num1}ºC em ºF {conversao}')"
   ]
  },
  {
   "cell_type": "markdown",
   "metadata": {},
   "source": [
    "12 - Faça um algoritmo que pergunte a quantidade de km percorridos por um carro alugado e a quantidade de dias pelos quais ele foi alugado. Calcule o preço a pagar, sabendo que o\n",
    "carro custa R$60 por dia e R$0.15 por km rodado."
   ]
  },
  {
   "cell_type": "code",
   "execution_count": 12,
   "metadata": {},
   "outputs": [
    {
     "name": "stdout",
     "output_type": "stream",
     "text": [
      "O total a ser pago é R$525.0\n"
     ]
    }
   ],
   "source": [
    "dias = int(input('Digite a quantidade de dias alugados: '))\n",
    "lerKm = float(input('Quantos kilometros percorridos? '))\n",
    "\n",
    "#pago = (dias * 60) + (lerKm * 0.15)\n",
    "\n",
    "print(f'O total a ser pago é R${dias * 60 + lerKm * 0.15:.2f}')"
   ]
  },
  {
   "cell_type": "markdown",
   "metadata": {},
   "source": [
    "Desafios Biblioteca/Módulos"
   ]
  },
  {
   "cell_type": "markdown",
   "metadata": {},
   "source": [
    "13 - Crie um programa que leia o comprimento do cateto oposto e do cateto adjacente de um\n",
    "triangulo retângulo, calcule e mostre o comprimento da hipotenusa."
   ]
  },
  {
   "cell_type": "code",
   "execution_count": 2,
   "metadata": {},
   "outputs": [
    {
     "name": "stdout",
     "output_type": "stream",
     "text": [
      "A hipotenusa vai medir: 5.00\n"
     ]
    }
   ],
   "source": [
    "import math\n",
    "\n",
    "#ler os dois valores cateto oposto e cateto adjacente\n",
    "co = float(input(\"Digite o cateto oposto: \"))\n",
    "ca = float(input(\"Digite o cateto adjacente: \"))\n",
    "\n",
    "#usar a biblioteca para calcular a hipotenusa\n",
    "hi = math.hypot(co, ca)\n",
    "\n",
    "#imprimir o resultado\n",
    "print(f\"A hipotenusa vai medir: {hi:.2f}\")"
   ]
  },
  {
   "cell_type": "markdown",
   "metadata": {},
   "source": [
    "14 - Crie um programa que leia um angulo qualquer e mostre na tela o valor do seno, cosseno\n",
    "e tangente desse ângulo."
   ]
  },
  {
   "cell_type": "code",
   "execution_count": 5,
   "metadata": {},
   "outputs": [
    {
     "name": "stdout",
     "output_type": "stream",
     "text": [
      "O angulo de 60.0 tem o seno de -17.46\n",
      "O angulo de 60.0 tem o cosseno de -54.57\n",
      "O angulo de 60.0 tem a tangente de 18.34\n"
     ]
    }
   ],
   "source": [
    "from math import sin, cos, tan, degrees\n",
    "\n",
    "#ler angulo\n",
    "angulo = float(input(\"Digite o angulo que deseja calcular: \"))\n",
    "\n",
    "#mostrar seno\n",
    "seno = degrees(sin(angulo))\n",
    "print(f'O angulo de {angulo} tem o seno de {seno:.2f}')\n",
    "#mostrar cosseno\n",
    "cosseno = degrees(cos(angulo))\n",
    "print(f'O angulo de {angulo} tem o cosseno de {cosseno:.2f}')\n",
    "#mostrar tangente\n",
    "tangente = degrees(tan(angulo))\n",
    "print(f'O angulo de {angulo} tem a tangente de {tangente:.2f}')"
   ]
  },
  {
   "cell_type": "markdown",
   "metadata": {},
   "source": [
    "15 - Um professor quer sortear um dos seus quatro alunos para apagar o quadro. Faça um programa que ajude ele, lendo o nome deles e escrevendo o nome do escolhido."
   ]
  },
  {
   "cell_type": "code",
   "execution_count": 9,
   "metadata": {},
   "outputs": [
    {
     "name": "stdout",
     "output_type": "stream",
     "text": [
      "O aluno escolhido foi alex\n"
     ]
    }
   ],
   "source": [
    "from random import choice, shuffle\n",
    "\n",
    "# ler o nome dos quatro alunos\n",
    "aluno1 = str(input(\"Nome do primeiro aluno: \"))\n",
    "aluno2 = str(input(\"Nome do primeiro aluno: \"))\n",
    "aluno3 = str(input(\"Nome do primeiro aluno: \"))\n",
    "aluno4 = str(input(\"Nome do primeiro aluno: \"))\n",
    "\n",
    "#armazenar em um vetor/lista\n",
    "lista_alunos = [aluno1, aluno2, aluno3, aluno4]\n",
    "sorteada = choice(lista_alunos)\n",
    "print(f'O aluno escolhido foi {sorteada}')"
   ]
  },
  {
   "cell_type": "markdown",
   "metadata": {},
   "source": [
    "16 - O mesmo professor do desafio anterior quer sortear a ordem de apresentação de trabalhos dos alunos. Faça um programa que leia o nome dos quatro alunos e mostre a ordem sorteada."
   ]
  },
  {
   "cell_type": "code",
   "execution_count": 10,
   "metadata": {},
   "outputs": [
    {
     "name": "stdout",
     "output_type": "stream",
     "text": [
      "['rayssa', 'bruna', 'Gabriel', 'alex']\n"
     ]
    }
   ],
   "source": [
    "shuffle(lista_alunos)\n",
    "print(lista_alunos)"
   ]
  },
  {
   "cell_type": "markdown",
   "metadata": {},
   "source": [
    "17 -Escreva um programa que faça o computador 'Pensar' em um número inteiro entre 0 e 5 e peça para o usuário tentar descobrir qual foi o número escolhido pelo computador. O programa deverá escrever na tela se o usuário venceu ou perdeu."
   ]
  },
  {
   "cell_type": "code",
   "execution_count": 2,
   "metadata": {},
   "outputs": [
    {
     "name": "stdout",
     "output_type": "stream",
     "text": [
      "--*----*----*----*----*----*----*----*----*----*--\n",
      "Vou pensar em um numero entre 0 e 5, tente advinhar...\n",
      "--*----*----*----*----*----*----*----*----*----*--\n",
      "PROCESSANDO...\n",
      "Eu venci, eu pensei 4 e não 5\n"
     ]
    }
   ],
   "source": [
    "from random import randint\n",
    "from time import sleep\n",
    "\n",
    "##Escolher um numero aleatorio\n",
    "sorteado = randint(0,5)\n",
    "print('--*--' * 10)\n",
    "print('Vou pensar em um numero entre 0 e 5, tente advinhar...')\n",
    "print('--*--' * 10)\n",
    "jogador = int(input('Qual numero eu pensei ? '))\n",
    "print('PROCESSANDO...')\n",
    "sleep(2)\n",
    "if jogador == sorteado:\n",
    "    print('Parabéns! Você venceu.')\n",
    "else:\n",
    "    print(f'Eu venci, eu pensei {sorteado} e não {jogador}')"
   ]
  },
  {
   "cell_type": "markdown",
   "metadata": {},
   "source": [
    "18 - Escreva um programa que leia a velocidade de um carro. Se ele ultrapassar 80Km/h, mostre uma mensagem dizendo que ele foi multado. A multa vai custar R$7,00 por cada Km acima do limite."
   ]
  },
  {
   "cell_type": "code",
   "execution_count": 3,
   "metadata": {},
   "outputs": [
    {
     "name": "stdout",
     "output_type": "stream",
     "text": [
      "Multado! Você ultrapassou o limite de velocidade, multado em  R$35.00\n"
     ]
    }
   ],
   "source": [
    "velocidade_carro = float(input('Digite a velocidade do carro: '))\n",
    "limite = 80\n",
    "\n",
    "if velocidade_carro > limite:\n",
    "    multa = (velocidade_carro - limite) * 7\n",
    "    print(f'Multado! Você ultrapassou o limite de velocidade, multado em  R${multa:.2f}')\n",
    "else:\n",
    "    print('Você esta dentro do limite de velocidade.')"
   ]
  },
  {
   "cell_type": "markdown",
   "metadata": {},
   "source": [
    "19 - Crie um programa que leia um número inteiro e mostre na tela se ele é PAR ou ÍMPAR."
   ]
  },
  {
   "cell_type": "code",
   "execution_count": 5,
   "metadata": {},
   "outputs": [
    {
     "name": "stdout",
     "output_type": "stream",
     "text": [
      "0 é par\n"
     ]
    }
   ],
   "source": [
    "numero = int(input('Digite um numero: '))\n",
    "if numero % 2 == 0:\n",
    "    print(f'{numero} é par')\n",
    "else:\n",
    "    print(f'{numero} é impar')"
   ]
  },
  {
   "cell_type": "markdown",
   "metadata": {},
   "source": [
    "20 - Desenvolva um programa que pergunte a distância de uma viagem em Km. Calcule o preço da passagem, cobrando R$0,50 por Km para viagens de até 200Km e R$0,45 para viagens mais longas."
   ]
  },
  {
   "cell_type": "code",
   "execution_count": 6,
   "metadata": {},
   "outputs": [
    {
     "name": "stdout",
     "output_type": "stream",
     "text": [
      "Sua viagem ultrapassou 200km 112.5\n"
     ]
    }
   ],
   "source": [
    "distancia = float(input('Digite a distancia da viagem?'))\n",
    "if distancia <= 200:\n",
    "    print(f'Sua viagem atingiu R${distancia * 0.50}')\n",
    "else:\n",
    "    print(f'Sua viagem ultrapassou 200km RS{distancia * 0.45}')"
   ]
  },
  {
   "cell_type": "code",
   "execution_count": 8,
   "metadata": {},
   "outputs": [
    {
     "name": "stdout",
     "output_type": "stream",
     "text": [
      "O preço da sua passagem será de R$100.00\n"
     ]
    }
   ],
   "source": [
    "distancia = float(input('Digite a distancia da viagem?'))\n",
    "if distancia <= 200:\n",
    "    passagem = distancia * 0.50\n",
    "else:\n",
    "    passagem = distancia * 0.45\n",
    "\n",
    "print(f'O preço da sua passagem será de R${passagem:.2f}')"
   ]
  },
  {
   "cell_type": "markdown",
   "metadata": {},
   "source": [
    "21 - Faça um programa que leia um ano qualquer e mostre se ele é bissexto.\n",
    "\n",
    "Se o ano for divisível por 4, ele pode ser um ano bissexto."
   ]
  },
  {
   "cell_type": "code",
   "execution_count": null,
   "metadata": {},
   "outputs": [],
   "source": [
    "ano = int(input('Qual ano você quer analisar ? '))\n",
    "\n",
    "if ano % 4 == 0:\n",
    "    print(f'O ano {ano} é BISSEXTO')\n",
    "else:\n",
    "    print(f'O ano {ano} não é BISSEXTO')"
   ]
  },
  {
   "cell_type": "code",
   "execution_count": null,
   "metadata": {},
   "outputs": [],
   "source": [
    "#usa a biblioteca calendario para verificar se o ano é Bissexto\n",
    "from calendar import isleap\n",
    "\n",
    "ano = int(input('Qual ano quer analisar? '))\n",
    "#if (ano % 4 == 0 and ano % 100 !=0) or (ano % 400 == 0)\n",
    "if isleap(ano):\n",
    "    print(f'O ano {ano} é BISSEXTO')\n",
    "else:\n",
    "    print(f'O ano {ano} não é BISSEXTO')"
   ]
  },
  {
   "cell_type": "markdown",
   "metadata": {},
   "source": [
    "Desafios"
   ]
  },
  {
   "cell_type": "markdown",
   "metadata": {},
   "source": [
    "24 – Escreva um programa para aprovar o empréstimo bancário para a compra de uma casa. O programa vai perguntar o valor da casa, o salário do comprador e em quantos anos ele vai pagar. Calcule o valor da prestação mensal, sabendo que ela não pode exceder 30% do salário ou então o empréstimo será negado."
   ]
  },
  {
   "cell_type": "code",
   "execution_count": 2,
   "metadata": {},
   "outputs": [
    {
     "name": "stdout",
     "output_type": "stream",
     "text": [
      "Emprestimo negado, valor superior a 30 do seu salario\n"
     ]
    }
   ],
   "source": [
    "#01 - ler o valor da casa\n",
    "valorCasa = float(input('Digite o valor da casa: R$'))\n",
    "#02 - Ler salario comprador\n",
    "salario = float(input('Digite seu salario: R$'))\n",
    "#03 - Ler a quantidade de anos de compra\n",
    "anos = int(input('Digite a quantidade de anos: '))\n",
    "#04 - conveter anos em meses\n",
    "prestacao = valorCasa / (anos * 12)\n",
    "\n",
    "if prestacao > (salario * 30) /100:\n",
    "    print('Emprestimo negado, valor superior a 30 do seu salario')\n",
    "else:\n",
    "    print('Emprestimo concedido')"
   ]
  },
  {
   "cell_type": "markdown",
   "metadata": {},
   "source": [
    "24 – Escreva um programa que leia um número inteiro qualquer e peça para o usuário escolher qual será a base de conversão:\n",
    "1 -  para binário\n",
    "2 – para octal\n",
    "3 – para hexadecimal."
   ]
  },
  {
   "cell_type": "code",
   "execution_count": 3,
   "metadata": {},
   "outputs": [
    {
     "name": "stdout",
     "output_type": "stream",
     "text": [
      "Escolha uma das bases para conversão\n",
      "    [ 1 ] Conveter para binário \n",
      "    [ 2 ] Conveter para Octal \n",
      "    [ 3 ] Conveter para Hexadecimal \n",
      "\n",
      "4 convertido na base binária 100\n"
     ]
    }
   ],
   "source": [
    "num = int(input(\"Digite um numero inteiro\"))\n",
    "print('''Escolha uma das bases para conversão\n",
    "    [ 1 ] Conveter para binário \n",
    "    [ 2 ] Conveter para Octal \n",
    "    [ 3 ] Conveter para Hexadecimal \n",
    "''')\n",
    "opcao = int(input('Escolha a opção: '))\n",
    "if opcao == 1:\n",
    "    print(f'{num} convertido na base binária {bin(num)[2:]}')\n",
    "elif opcao == 2:\n",
    "    print(f'{num} convertido na base binária {oct(num)[2:]}')\n",
    "elif opcao == 3:\n",
    "    print(f'{num} convertido na base binária {hex(num)[2:]}')\n",
    "else:\n",
    "    print('Opção Inválida')\n"
   ]
  },
  {
   "cell_type": "markdown",
   "metadata": {},
   "source": [
    "25 – Escreva um programa que leia dois números inteiros e compare-os, mostrando na tela uma mensagem:\n",
    "- O primeiro valor é maior.\n",
    "- O segundo valor é maior.\n",
    "- Não existe valor maios, os dois são iguais."
   ]
  },
  {
   "cell_type": "code",
   "execution_count": null,
   "metadata": {},
   "outputs": [],
   "source": [
    "num1 = int(input('Digite um numero: '))\n",
    "num2 = int(input('Digite um numero: '))\n",
    "\n",
    "if num1 < num2:\n",
    "    print(f'Esse {num1} é menor {num2}')\n",
    "elif num1 > num2:\n",
    "    print(f'O valor {num1} é maior que {num2}')\n",
    "else:\n",
    "    print(f'Valores iguais.')"
   ]
  },
  {
   "cell_type": "markdown",
   "metadata": {},
   "source": [
    "26 - A Confederação Nacional de Natação precisa de um programa que leia o ano de nascimento de um atleta e mostre sua categoria, de acordo com a idade:\n",
    "– Até 9 anos: MIRIM\n",
    "– Até 14 anos: INFANTIL\n",
    "– Até 19 anos: JÚNIOR\n",
    "– Até 25 anos: SÊNIOR\n",
    "– Acima de 25 anos: MASTER"
   ]
  },
  {
   "cell_type": "code",
   "execution_count": 4,
   "metadata": {},
   "outputs": [
    {
     "name": "stdout",
     "output_type": "stream",
     "text": [
      "O atleta tem 35 anos 2024\n",
      "Classificação Master\n"
     ]
    }
   ],
   "source": [
    "from datetime import date\n",
    "\n",
    "hoje = date.today().year\n",
    "nascimento = int(input('Qual ano você nasceu? '))\n",
    "idade = hoje - nascimento\n",
    "print(f'O atleta tem {idade} anos {hoje}')\n",
    "\n",
    "if idade <= 9:\n",
    "    print('Classificação Mirim')\n",
    "elif idade <= 14:\n",
    "    print('Classificação Infantil')\n",
    "elif idade <= 19:\n",
    "    print('Classificação Junior')\n",
    "elif idade <= 25 :\n",
    "    print('Classificação Senior')\n",
    "else:\n",
    "    print('Classificação Master')"
   ]
  },
  {
   "cell_type": "markdown",
   "metadata": {},
   "source": [
    "27 - Crie um programa que faça o computador jogar Jokenpô com você."
   ]
  },
  {
   "cell_type": "code",
   "execution_count": 8,
   "metadata": {},
   "outputs": [
    {
     "name": "stdout",
     "output_type": "stream",
     "text": [
      " Suas opções\n",
      "        [ 1 ] - Pedra\n",
      "        [ 2 ] - Papel\n",
      "        [ 3 ] - Tesoura     \n",
      "\n",
      "Valor inválido.\n"
     ]
    }
   ],
   "source": [
    "import random\n",
    "\n",
    "escolha = random.randint(1,4)\n",
    "print(''' Suas opções\n",
    "        [ 1 ] - Pedra\n",
    "        [ 2 ] - Papel\n",
    "        [ 3 ] - Tesoura     \n",
    "''')\n",
    "jogador = int(input('Digite a opção escolhida: '))\n",
    "if escolha == 1:\n",
    "    if jogador == 1:\n",
    "        print('Empate')\n",
    "    elif jogador == 2:\n",
    "        print('Voce ganhou!')\n",
    "    elif jogador == 3:\n",
    "        print('Computador ganhou')\n",
    "if escolha == 2:\n",
    "    if jogador == 1:\n",
    "        print('Computador Ganhou')\n",
    "    elif jogador == 2:\n",
    "        print('Empate')\n",
    "    elif jogador == 3:\n",
    "        print('Você ganhou')\n",
    "if escolha == 3:\n",
    "    if jogador == 1:\n",
    "        print('Você Ganhou')\n",
    "    elif jogador == 2:\n",
    "        print('Computador Ganhou')\n",
    "    elif jogador == 3:\n",
    "        print('Empate')\n",
    "else:\n",
    "    print('Valor inválido.')"
   ]
  },
  {
   "cell_type": "markdown",
   "metadata": {},
   "source": [
    "Exercício Python 30: Crie um programa que leia dois valores e mostre um menu na tela:\n",
    "[ 1 ] somar\n",
    "[ 2 ] multiplicar\n",
    "[ 3 ] maior\n",
    "[ 4 ] novos números\n",
    "[ 5 ] sair do programa\n",
    "Seu programa deverá realizar a operação solicitada em cada caso."
   ]
  },
  {
   "cell_type": "code",
   "execution_count": null,
   "metadata": {},
   "outputs": [],
   "source": [
    "n1 = int(input('Entre com o primeiro valor: '))\n",
    "n2 = int(input('Entre com o segundo valor: '))\n",
    "opcao = 0\n",
    "while opcao != 5:\n",
    "    print('''\n",
    "    [ 1 ] - Somar\n",
    "    [ 2 ] - Multiplicar\n",
    "    [ 3 ] - Maior\n",
    "    [ 4 ] - Novos Numeros\n",
    "    [ 5 ] - Sair\n",
    "''')\n",
    "    opcao = int(input('Qual sua opção? '))\n",
    "    if opcao == 1:\n",
    "        print(f'A soma de {n1} e {n2} = {n1 + n2}')\n",
    "    elif opcao == 2:\n",
    "        print(f'A Multiplicação de {n1} e {n2} = {n1 * n2}')"
   ]
  },
  {
   "cell_type": "markdown",
   "metadata": {},
   "source": [
    "Melhore o jogo, onde o computador vai “pensar” em um número entre 0 e 10. Só que agora o jogador vai tentar adivinhar até acertar, mostrando no final quantos palpites foram necessários para vencer."
   ]
  },
  {
   "cell_type": "code",
   "execution_count": null,
   "metadata": {},
   "outputs": [],
   "source": [
    "from random import randint\n",
    "\n",
    "computador = randint(0, 10)\n",
    "print('Ja pensei em um numero, tente advinhar')\n",
    "acertou = False\n",
    "palpite = 0\n",
    "\n",
    "while not acertou:\n",
    "    pessoa = int(input('Digite um numero de 0 a 10'))\n",
    "    palpite +=1\n",
    "    if pessoa == computador:\n",
    "        acertou = True\n",
    "    else:\n",
    "        if pessoa < computador:\n",
    "           print('Digite um numero maior, tente novamente')\n",
    "        elif pessoa > computador:\n",
    "           print('Digite um mumero menor, tente novamente')\n",
    "print(f'Acertou! com {palpite} Tentativas')"
   ]
  },
  {
   "cell_type": "markdown",
   "metadata": {},
   "source": [
    "Exercício Python: Crie um programa que leia vários números inteiros pelo teclado. O programa só vai parar quando o usuário digitar o valor 999, que é a condição de parada. No final, mostre quantos números foram digitados e qual foi a soma entre eles (desconsiderando o flag)."
   ]
  },
  {
   "cell_type": "code",
   "execution_count": null,
   "metadata": {},
   "outputs": [],
   "source": [
    "num = 0\n",
    "cont = 0\n",
    "soma = 0\n",
    "while num != 999:\n",
    "    cont += 1\n",
    "    soma += num\n",
    "    num = int(input('Digite um numero[Para interromper 999]: '))\n",
    "print(f'Você digitou {cont} vezes e as soma é {soma}')"
   ]
  },
  {
   "cell_type": "markdown",
   "metadata": {},
   "source": [
    "Exercicio Python: Crie um programa que simule o funcionamento de um caixa eletrônico. No início, pergunte ao usuário qual será o valor a ser sacado (número inteiro) e o programa vai informar quantas cédulas de cada valor serão entregues. OBS:\n",
    "\n",
    "considere que o caixa possui cédulas de R$50, R$20, R$10 e R$1."
   ]
  },
  {
   "cell_type": "code",
   "execution_count": 7,
   "metadata": {},
   "outputs": [
    {
     "name": "stdout",
     "output_type": "stream",
     "text": [
      "R$50: 2\n",
      "R$20: 0\n",
      "R$10: 0\n",
      "R$1:  0\n"
     ]
    }
   ],
   "source": [
    "notas = [50, 20, 10 , 1 ]\n",
    "cedulas = []\n",
    "valorSacado = int(input(\"Digite o valor a ser sacado:\"))\n",
    "while valorSacado > 0:\n",
    "    for valor in notas:\n",
    "        cedulas.append(valorSacado // valor)\n",
    "        valorSacado = valorSacado % valor\n",
    "print(f'R$50: {cedulas[0]}')\n",
    "print(f'R$20: {cedulas[1]}')\n",
    "print(f'R$10: {cedulas[2]}')\n",
    "print(f'R$1:  {cedulas[3]}')"
   ]
  },
  {
   "cell_type": "code",
   "execution_count": 4,
   "metadata": {},
   "outputs": [
    {
     "name": "stdout",
     "output_type": "stream",
     "text": [
      "14\n"
     ]
    }
   ],
   "source": [
    "from random import randint\n",
    "\n",
    "print(randint(1,35))"
   ]
  }
 ],
 "metadata": {
  "kernelspec": {
   "display_name": "Python 3",
   "language": "python",
   "name": "python3"
  },
  "language_info": {
   "codemirror_mode": {
    "name": "ipython",
    "version": 3
   },
   "file_extension": ".py",
   "mimetype": "text/x-python",
   "name": "python",
   "nbconvert_exporter": "python",
   "pygments_lexer": "ipython3",
   "version": "3.12.1"
  }
 },
 "nbformat": 4,
 "nbformat_minor": 2
}
